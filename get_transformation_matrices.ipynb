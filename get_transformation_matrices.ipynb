{
 "cells": [
  {
   "cell_type": "code",
   "execution_count": null,
   "metadata": {},
   "outputs": [],
   "source": [
    "import sympy as sp\n",
    "import numpy as np\n",
    "from sympy.parsing.sympy_parser import parse_expr, convert_xor\n",
    "import re"
   ]
  },
  {
   "cell_type": "code",
   "execution_count": null,
   "metadata": {},
   "outputs": [],
   "source": [
    "def get_variables(num_dims):\n",
    "    result = {}\n",
    "    for dim in range(num_dims):\n",
    "        x = f\"x{dim}\"\n",
    "        y = f\"y{dim}\"\n",
    "        result[x],result[y] = sp.symbols([x,y])\n",
    "    return result\n",
    "        \n",
    "\n",
    "def get_matrix_function(filename):\n",
    "    with open(filename, 'r') as config:\n",
    "        data = config.read()\n",
    "    if has_line:=re.search('^set mapping = (.+)$',data, re.MULTILINE):\n",
    "        map_eq_line = has_line.group(1)\n",
    "        map_eq_lines = map_eq_line.split(';')\n",
    "        map_eq = [parse_expr(map_eq_line, local_dict=get_variables(2), transformations = [convert_xor]) for map_eq_line in map_eq_lines]\n",
    "        map_eq_matrix = sp.Matrix(map_eq)\n",
    "        return map_eq_matrix\n",
    "    else:\n",
    "        raise ValueError(\"Not found any mapping in config file %s\"%filename)\n",
    "    \n",
    "    \n",
    "    "
   ]
  },
  {
   "cell_type": "code",
   "execution_count": null,
   "metadata": {},
   "outputs": [],
   "source": [
    "filename = 'input/biocase.prm'\n",
    "get_matrix_function(filename)"
   ]
  },
  {
   "cell_type": "code",
   "execution_count": null,
   "metadata": {},
   "outputs": [],
   "source": []
  }
 ],
 "metadata": {
  "kernelspec": {
   "display_name": "Python 3",
   "language": "python",
   "name": "python3"
  },
  "language_info": {
   "codemirror_mode": {
    "name": "ipython",
    "version": 3
   },
   "file_extension": ".py",
   "mimetype": "text/x-python",
   "name": "python",
   "nbconvert_exporter": "python",
   "pygments_lexer": "ipython3",
   "version": "3.8.5"
  }
 },
 "nbformat": 4,
 "nbformat_minor": 4
}
