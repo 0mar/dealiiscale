{
 "cells": [
  {
   "cell_type": "code",
   "execution_count": null,
   "metadata": {},
   "outputs": [],
   "source": [
    "import numpy as np\n",
    "import pandas as pd\n",
    "import matplotlib.pyplot as plt"
   ]
  },
  {
   "cell_type": "code",
   "execution_count": null,
   "metadata": {},
   "outputs": [],
   "source": [
    "figsize=(6,4)\n",
    "def plot_color(case):\n",
    "    df = pd.read_csv(f'{case}/v-int.txt',sep=',',header=None)\n",
    "    plt.figure(figsize=figsize)\n",
    "    legend = []\n",
    "    for i in df.columns[::2]:\n",
    "        plt.plot(df.index[1:]/100, df.iloc[1:,i])\n",
    "        legend.append('$v_{%d}$'%(i+1))\n",
    "    plt.legend(legend,bbox_to_anchor=(1.05,1), loc='upper left')\n",
    "    plt.xlabel(\"time\")\n",
    "    plt.title(r\"$\\int_{Y(x_i)} v_i$ %s\"%case.replace('-',' ').title())\n",
    "    plt.tight_layout()\n",
    "    plt.savefig(f\"{case}-color.pdf\")\n",
    "    plt.show()\n",
    "    \n",
    "def plot_chi(case):\n",
    "    df = pd.read_csv(f'{case}/v-int.txt',sep=',',header=None)\n",
    "    k1 = 0.5\n",
    "    d = 0.8\n",
    "    dt = 0.01\n",
    "    chi = np.zeros(df.values.shape)\n",
    "    chi[0,:] = df.iloc[0,:].values\n",
    "    gen = df.iterrows()\n",
    "    next(gen)\n",
    "    for i,row in gen:\n",
    "        chi[i,:] = (d*row.values*dt + chi[i-1,:])/(1 + dt*k1)\n",
    "    df = pd.DataFrame(data=chi)\n",
    "    legend = []\n",
    "    plt.figure(figsize=figsize)\n",
    "    for i in df.columns[::2]:\n",
    "        plt.plot(df.index[1:]/100, df.iloc[1:,i])\n",
    "        legend.append('$x_{%d}$'%(i+1))\n",
    "    plt.legend(legend,bbox_to_anchor=(1.05,1), loc='upper left')\n",
    "    plt.xlabel(\"time\")\n",
    "    plt.title(r\"$\\chi(x_i,t)$ %s\"%case.replace('-',' ').title())\n",
    "    plt.tight_layout()\n",
    "    plt.savefig(f\"{case}-chi.pdf\")\n",
    "    plt.show()\n",
    "    \n",
    "def compare_u(case):\n",
    "    base = 'case-0'\n",
    "    plt.figure(figsize=figsize)\n",
    "    markers = ['-',':']\n",
    "    for num,case_ in enumerate([case, base]):\n",
    "        df = pd.read_csv(f'{case_}/u-point.txt',sep=',',header=None)\n",
    "        legend = []\n",
    "        for i in df.columns[::2]:        \n",
    "            plt.plot(df.index[1:]/100, df.iloc[1:,i], color=f\"C{i}\",linestyle=markers[num])\n",
    "            if num==1:\n",
    "                legend.append('$u(x_{%d})$'%(i+1))\n",
    "            \n",
    "    plt.legend(legend,bbox_to_anchor=(1.05,1), loc='upper left')\n",
    "    plt.xlabel(\"time\")\n",
    "    plt.title(f\"$u(x_i,t)$ {case.replace('-',' ').title()}\")\n",
    "    plt.tight_layout()\n",
    "    plt.savefig(f\"{case}-u.pdf\")\n",
    "\n",
    "for case in ['case-a','case-b']:\n",
    "    plot_color(case)\n",
    "    plot_chi(case)\n",
    "    compare_u(case)"
   ]
  }
 ],
 "metadata": {
  "kernelspec": {
   "display_name": "Python 3",
   "language": "python",
   "name": "python3"
  },
  "language_info": {
   "codemirror_mode": {
    "name": "ipython",
    "version": 3
   },
   "file_extension": ".py",
   "mimetype": "text/x-python",
   "name": "python",
   "nbconvert_exporter": "python",
   "pygments_lexer": "ipython3",
   "version": "3.8.5"
  }
 },
 "nbformat": 4,
 "nbformat_minor": 4
}
