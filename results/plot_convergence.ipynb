{
 "cells": [
  {
   "cell_type": "markdown",
   "metadata": {},
   "source": [
    "# Convergence of deal.II code\n",
    "\n",
    "In this notebook we test the performance of our manufacturing solution implementations.\n",
    "First, we fix the microscopic problem and solve the macroscopic problem. The approximation should be converging quadratically, using the right elements.\n",
    "\n",
    "Format:\n",
    "```\n",
    "cycle cells dofs    mL2       mH1       ML2       MH1\n",
    "    0    16   25 3.409e-01 3.409e-01 7.560e-01 1.815e+00\n",
    "```"
   ]
  },
  {
   "cell_type": "code",
   "execution_count": null,
   "metadata": {},
   "outputs": [],
   "source": [
    "import re\n",
    "import matplotlib.pyplot as plt\n",
    "if not plt.isinteractive():\n",
    "    plt.show = lambda:print(\"Skipping displaying plot\")\n",
    "import matplotlib.cm as cm\n",
    "import numpy as np\n",
    "import pandas as pd"
   ]
  },
  {
   "cell_type": "code",
   "execution_count": null,
   "metadata": {},
   "outputs": [],
   "source": [
    "df = pd.read_csv('macro-convergence.txt',delim_whitespace=True)\n",
    "df = df[df['cycle']=='0']\n",
    "for column in df.columns:\n",
    "    df[column] = pd.to_numeric(df[column])\n",
    "plt.loglog(df.dofs,df.ML2,'.-')\n",
    "plt.loglog(df.dofs,df.MH1,'.-')\n",
    "plt.xlabel(\"Number of DoF\")\n",
    "plt.ylabel(\"Error\")\n",
    "plt.legend(['L2 error','H1 error'])\n",
    "plt.title(\"Macroscopic grid with fixed micro solution\")\n",
    "plt.savefig(\"plot_macro_only_convergence.pdf\")\n",
    "plt.show()"
   ]
  },
  {
   "cell_type": "markdown",
   "metadata": {},
   "source": [
    "Convergence! What about fixing the macro and testing the micro?"
   ]
  },
  {
   "cell_type": "code",
   "execution_count": null,
   "metadata": {},
   "outputs": [],
   "source": [
    "df = pd.read_csv('micro-convergence.txt',delim_whitespace=True)\n",
    "df = df[df['cycle']=='0']\n",
    "for column in df.columns:\n",
    "    df[column] = pd.to_numeric(df[column])\n",
    "plt.loglog(df.dofs,df.mL2,'.-')\n",
    "plt.loglog(df.dofs,df.mH1,'.-')\n",
    "plt.xlabel(\"Number of DoF\")\n",
    "plt.ylabel(\"Error\")\n",
    "plt.legend(['L2 error','H1 error'])\n",
    "plt.title(\"Microscopic grid with fixed macro solution\")\n",
    "plt.savefig(\"plot_micro_only_convergence.pdf\")\n",
    "plt.show()"
   ]
  },
  {
   "cell_type": "markdown",
   "metadata": {},
   "source": [
    "Convergence too! Now all we need is the interaction between the two scales."
   ]
  },
  {
   "cell_type": "code",
   "execution_count": null,
   "metadata": {},
   "outputs": [],
   "source": [
    "df = pd.read_csv('multi-convergence.txt',delim_whitespace=True)\n",
    "df = df[df['cycle']!='cycle']\n",
    "for column in df.columns:\n",
    "    df[column] = pd.to_numeric(df[column])\n",
    "max_num_iterations = df['cycle'].max()+1\n",
    "colors = cm.rainbow(np.linspace(0,1,max_num_iterations))\n",
    "\n",
    "for scale in ['M','m']:\n",
    "    for error in ['L2','H1']:\n",
    "        fig = plt.figure()\n",
    "        ax = plt.gca()\n",
    "        ax.set_yscale('log') # Weird. Has to happen before plotting the data.\n",
    "        ax.set_xscale('log')\n",
    "        for dof in df.dofs.unique():\n",
    "            col = \"%s%s\"%(scale,error)\n",
    "            sub_df = df[df.dofs==dof]\n",
    "            ax.scatter(sub_df[\"dofs\"].values,sub_df[col].values,color=colors[-len(sub_df):])\n",
    "        second_highest_acc = df[df.dofs==df.dofs.unique()[-2]][col].values[-1]\n",
    "        highest_acc = df[df.dofs==df.dofs.unique()[-1]][col].values[-1]\n",
    "        conv_rate = np.log(second_highest_acc/highest_acc)/np.log(2)\n",
    "        plt.title(\"Convergence of %s, rate: p=%.2f\"%(col,conv_rate))\n",
    "        plt.xlabel(\"Degrees of freedom\")\n",
    "        plt.ylabel(\"Error\")\n",
    "        plt.savefig(\"plot_conv_%s.pdf\"%col)\n",
    "        plt.show()"
   ]
  },
  {
   "cell_type": "markdown",
   "metadata": {},
   "source": [
    "Converges as well, and quite nice too. The $H^1$ microscopic error seems to converge superlinear, this might be because of a too simple microscopic problem i.e. of quadratic order.\n",
    "Let's see if we can fix that"
   ]
  },
  {
   "cell_type": "code",
   "execution_count": null,
   "metadata": {},
   "outputs": [],
   "source": []
  }
 ],
 "metadata": {
  "kernelspec": {
   "display_name": "Python 3",
   "language": "python",
   "name": "python3"
  },
  "language_info": {
   "codemirror_mode": {
    "name": "ipython",
    "version": 3
   },
   "file_extension": ".py",
   "mimetype": "text/x-python",
   "name": "python",
   "nbconvert_exporter": "python",
   "pygments_lexer": "ipython3",
   "version": "3.8.2"
  }
 },
 "nbformat": 4,
 "nbformat_minor": 4
}
